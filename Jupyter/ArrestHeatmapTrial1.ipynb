{
 "cells": [
  {
   "cell_type": "markdown",
   "id": "3cb008dc-d619-4bd7-980b-d1c53db501dd",
   "metadata": {},
   "source": [
    "# UCSB Isla Vista Arrest Heatmaps Trial 1: No Counts\n",
    "\n",
    "This project involves creating heatmaps to visualize arrest patterns in Isla Vista, CA, from September to November 2024, integrating GeoPy with Folium to map and display the data for an article in UCSB's student-run newspaper, the *Daily Nexus*.\n",
    "\n",
    "### Project Description\n",
    "The goal of this project was to create detailed heatmaps to visualize the spatial distribution and concentration of arrests in Isla Vista, CA, during the early academic months of September to Novemeber 2024. The heatmaps were developed to  accompany and enhance an article written in the *Daily Nexus*, UC Santa Barbara's independent, student-run newspaper. The article, \"*Substance-related and theft-related arrests rise in Isla Vista over the last two months*\", was written by me (Anna Gornyitzki) and Aastha Prakash."
   ]
  },
  {
   "cell_type": "markdown",
   "id": "1f63dd17-2b1d-450a-af7a-65b0431a9765",
   "metadata": {},
   "source": [
    "### Trial 1: No Counts\n",
    "The first trial of this project involved creating multiple heatmaps to visualize arrest concentrations across Isla Vista. These maps were integrated into an article discussing the rise in substance and theft/property-related arrests during the first two months of the 2024-2025 UCSB academic year. One heatmap displayed all arrests, while others focused on specific categories: substance-related arrests and theft/property-related arrests."
   ]
  },
  {
   "cell_type": "markdown",
   "id": "a9b6ef5f-a7b2-43b3-8016-35db7fc7b538",
   "metadata": {},
   "source": [
    "# Heatmap 1: All Arrests"
   ]
  },
  {
   "cell_type": "markdown",
   "id": "777cde67-9d8b-4f5e-b6a5-c1c4aaf7e4f4",
   "metadata": {},
   "source": [
    "## 1. Importing Required Libraries"
   ]
  },
  {
   "cell_type": "code",
   "execution_count": 5,
   "id": "b899c638-d944-407d-8e93-eb92cb878c25",
   "metadata": {},
   "outputs": [],
   "source": [
    "# General Arrest Heatmap\n",
    "\n",
    "import sqlite3\n",
    "import pandas as pd\n",
    "from geopy.geocoders import GoogleV3\n",
    "from geopy.exc import GeocoderTimedOut\n",
    "import folium\n",
    "from folium.plugins import HeatMap\n",
    "import time\n"
   ]
  },
  {
   "cell_type": "markdown",
   "id": "4a5347f2-7235-4edf-92fe-92797f1f67c4",
   "metadata": {},
   "source": [
    "This block imports all the necessary libraries to carry out the task:\n",
    "* `sqlite3` for interacting with the SQLite database\n",
    "* `pandas` for handling data and manipulating data frames\n",
    "* `geopy.geocoders.GoogleV3` to geocode addresses into geographic coordinates (latitude and longitude).\n",
    "- `folium` for generating interactive maps.\n",
    "- `folium.plugins.HeatMap` for creating heatmaps using folium.\n",
    "- `time` for handling time-based operations (though not used in the code here, it might be used for time-related functions in other parts)."
   ]
  },
  {
   "cell_type": "markdown",
   "id": "ac145c03-886d-4040-b4e7-80ca5e41d020",
   "metadata": {},
   "source": [
    "## 2. Loading Data and Preparing Addresses"
   ]
  },
  {
   "cell_type": "code",
   "execution_count": 7,
   "id": "3c58ce25-fd89-4279-afd9-1bb5efc31c4b",
   "metadata": {},
   "outputs": [],
   "source": [
    "conn = sqlite3.connect('arrestsData.db')\n",
    "df = pd.read_sql_query('SELECT Location || \", Isla Vista, CA\" as address FROM UCSB_Crime_Fire_Log ucfl WHERE Disposition LIKE \"Arrest%\"', conn)\n",
    "addresses = df['address'].tolist()\n",
    "conn.close()"
   ]
  },
  {
   "cell_type": "markdown",
   "id": "ac30b789-d182-4b2b-b06a-7f84278c1e9e",
   "metadata": {},
   "source": [
    "First, a connection is made to the SQLite database `arrestsData.db` using `sqlite3`. Then, a SQL query is executed to retrieve arrest location data from the `UCSB_Crime_Fire_Log` table. The query concatenates `\", Isla Vista, CA\"` to the `Location` field to form complete addresses. This data is loaded into a pandas DataFrame, and the `address` column is converted into a list of addresses, which will be used for geocoding."
   ]
  },
  {
   "cell_type": "markdown",
   "id": "f0ca480b-bbf1-4642-b623-843dc8d97096",
   "metadata": {},
   "source": [
    "## 3. Geocoding the Addresses"
   ]
  },
  {
   "cell_type": "code",
   "execution_count": 8,
   "id": "968ccad0-e74e-4a6a-8f44-bac4307b0c5d",
   "metadata": {},
   "outputs": [],
   "source": [
    "coordinates = []\n",
    "for address in addresses:\n",
    "    coord = geocode_address(address)\n",
    "    if coord:\n",
    "        coordinates.append(coord)"
   ]
  },
  {
   "cell_type": "markdown",
   "id": "5176b345-8259-48bf-8b9a-350d236fc576",
   "metadata": {},
   "source": [
    "This loop iterates through each address in the `addresses` list and calls the `geocode_address()` function to convert the address into geographic coordinates (latitude and longitude). If the geocoding process is successful and returns valid coordinates (`coord`), they are added to the `coordinates` list. The function `geocode_address` is assumed to handle the geocoding logic (not defined in the provided code)."
   ]
  },
  {
   "cell_type": "markdown",
   "id": "f8ebc711-d969-4f0c-93a2-e63d98e47b55",
   "metadata": {},
   "source": [
    "## 4. Setting the Map Center and Creating the Heatmap"
   ]
  },
  {
   "cell_type": "code",
   "execution_count": 9,
   "id": "a43ff2e6-5dbc-4b01-b0d2-fe57ff78dd25",
   "metadata": {},
   "outputs": [
    {
     "data": {
      "text/plain": [
       "<folium.plugins.heat_map.HeatMap at 0x1301aa540>"
      ]
     },
     "execution_count": 9,
     "metadata": {},
     "output_type": "execute_result"
    }
   ],
   "source": [
    "map_center = [34.413120041278376, -119.86458253856023]\n",
    "heat_map = folium.Map(location=map_center, zoom_start=15)\n",
    "HeatMap(coordinates).add_to(heat_map)"
   ]
  },
  {
   "cell_type": "markdown",
   "id": "c9936c60-d169-4e29-a0d0-968f5b962682",
   "metadata": {},
   "source": [
    "The `map_center` is set to the geographic coordinates for a central point in Isla Vista, CA.\n",
    "- A `folium.Map` object is created, centered on `map_center` with an initial zoom level of 15.\n",
    "- The `HeatMap` object from `folium.plugins` is created using the `coordinates` list (containing latitude and longitude of arrest locations) and added to the `heat_map` object.\n",
    "The heatmap will visualize the density of arrests by displaying areas with higher concentrations of points in warmer colors."
   ]
  },
  {
   "cell_type": "markdown",
   "id": "19791f2b-fcab-4422-b506-fdf4199f0741",
   "metadata": {},
   "source": [
    "## 5. Saving and Displaying the Map"
   ]
  },
  {
   "cell_type": "markdown",
   "id": "4a8b971c-ca27-48a7-870f-60d358eef571",
   "metadata": {},
   "source": [
    "The generated heatmap is saved as an HTML file using the `save()` method, allowing it to be viewed in a web browser. The heatmap is then displayed and provides an interactive visualization of arrest concentrations across Isla Vista."
   ]
  },
  {
   "cell_type": "code",
   "execution_count": 10,
   "id": "a6269d49-2424-44da-9a6d-4beeff5623e5",
   "metadata": {},
   "outputs": [
    {
     "data": {
      "text/html": [
       "<div style=\"width:100%;\"><div style=\"position:relative;width:100%;height:0;padding-bottom:60%;\"><span style=\"color:#565656\">Make this Notebook Trusted to load map: File -> Trust Notebook</span><iframe srcdoc=\"&lt;!DOCTYPE html&gt;\n",
       "&lt;html&gt;\n",
       "&lt;head&gt;\n",
       "    \n",
       "    &lt;meta http-equiv=&quot;content-type&quot; content=&quot;text/html; charset=UTF-8&quot; /&gt;\n",
       "    \n",
       "        &lt;script&gt;\n",
       "            L_NO_TOUCH = false;\n",
       "            L_DISABLE_3D = false;\n",
       "        &lt;/script&gt;\n",
       "    \n",
       "    &lt;style&gt;html, body {width: 100%;height: 100%;margin: 0;padding: 0;}&lt;/style&gt;\n",
       "    &lt;style&gt;#map {position:absolute;top:0;bottom:0;right:0;left:0;}&lt;/style&gt;\n",
       "    &lt;script src=&quot;https://cdn.jsdelivr.net/npm/leaflet@1.9.3/dist/leaflet.js&quot;&gt;&lt;/script&gt;\n",
       "    &lt;script src=&quot;https://code.jquery.com/jquery-3.7.1.min.js&quot;&gt;&lt;/script&gt;\n",
       "    &lt;script src=&quot;https://cdn.jsdelivr.net/npm/bootstrap@5.2.2/dist/js/bootstrap.bundle.min.js&quot;&gt;&lt;/script&gt;\n",
       "    &lt;script src=&quot;https://cdnjs.cloudflare.com/ajax/libs/Leaflet.awesome-markers/2.0.2/leaflet.awesome-markers.js&quot;&gt;&lt;/script&gt;\n",
       "    &lt;link rel=&quot;stylesheet&quot; href=&quot;https://cdn.jsdelivr.net/npm/leaflet@1.9.3/dist/leaflet.css&quot;/&gt;\n",
       "    &lt;link rel=&quot;stylesheet&quot; href=&quot;https://cdn.jsdelivr.net/npm/bootstrap@5.2.2/dist/css/bootstrap.min.css&quot;/&gt;\n",
       "    &lt;link rel=&quot;stylesheet&quot; href=&quot;https://netdna.bootstrapcdn.com/bootstrap/3.0.0/css/bootstrap-glyphicons.css&quot;/&gt;\n",
       "    &lt;link rel=&quot;stylesheet&quot; href=&quot;https://cdn.jsdelivr.net/npm/@fortawesome/fontawesome-free@6.2.0/css/all.min.css&quot;/&gt;\n",
       "    &lt;link rel=&quot;stylesheet&quot; href=&quot;https://cdnjs.cloudflare.com/ajax/libs/Leaflet.awesome-markers/2.0.2/leaflet.awesome-markers.css&quot;/&gt;\n",
       "    &lt;link rel=&quot;stylesheet&quot; href=&quot;https://cdn.jsdelivr.net/gh/python-visualization/folium/folium/templates/leaflet.awesome.rotate.min.css&quot;/&gt;\n",
       "    \n",
       "            &lt;meta name=&quot;viewport&quot; content=&quot;width=device-width,\n",
       "                initial-scale=1.0, maximum-scale=1.0, user-scalable=no&quot; /&gt;\n",
       "            &lt;style&gt;\n",
       "                #map_f7a9949bac7201b05a1b68227695f59f {\n",
       "                    position: relative;\n",
       "                    width: 100.0%;\n",
       "                    height: 100.0%;\n",
       "                    left: 0.0%;\n",
       "                    top: 0.0%;\n",
       "                }\n",
       "                .leaflet-container { font-size: 1rem; }\n",
       "            &lt;/style&gt;\n",
       "        \n",
       "    &lt;script src=&quot;https://cdn.jsdelivr.net/gh/python-visualization/folium@main/folium/templates/leaflet_heat.min.js&quot;&gt;&lt;/script&gt;\n",
       "&lt;/head&gt;\n",
       "&lt;body&gt;\n",
       "    \n",
       "    \n",
       "            &lt;div class=&quot;folium-map&quot; id=&quot;map_f7a9949bac7201b05a1b68227695f59f&quot; &gt;&lt;/div&gt;\n",
       "        \n",
       "&lt;/body&gt;\n",
       "&lt;script&gt;\n",
       "    \n",
       "    \n",
       "            var map_f7a9949bac7201b05a1b68227695f59f = L.map(\n",
       "                &quot;map_f7a9949bac7201b05a1b68227695f59f&quot;,\n",
       "                {\n",
       "                    center: [34.413120041278376, -119.86458253856023],\n",
       "                    crs: L.CRS.EPSG3857,\n",
       "                    zoom: 15,\n",
       "                    zoomControl: true,\n",
       "                    preferCanvas: false,\n",
       "                }\n",
       "            );\n",
       "\n",
       "            \n",
       "\n",
       "        \n",
       "    \n",
       "            var tile_layer_49f314be06ccb78781582a1f34b2e011 = L.tileLayer(\n",
       "                &quot;https://tile.openstreetmap.org/{z}/{x}/{y}.png&quot;,\n",
       "                {&quot;attribution&quot;: &quot;\\u0026copy; \\u003ca href=\\&quot;https://www.openstreetmap.org/copyright\\&quot;\\u003eOpenStreetMap\\u003c/a\\u003e contributors&quot;, &quot;detectRetina&quot;: false, &quot;maxNativeZoom&quot;: 19, &quot;maxZoom&quot;: 19, &quot;minZoom&quot;: 0, &quot;noWrap&quot;: false, &quot;opacity&quot;: 1, &quot;subdomains&quot;: &quot;abc&quot;, &quot;tms&quot;: false}\n",
       "            );\n",
       "        \n",
       "    \n",
       "            tile_layer_49f314be06ccb78781582a1f34b2e011.addTo(map_f7a9949bac7201b05a1b68227695f59f);\n",
       "        \n",
       "    \n",
       "            var heat_map_d13cc35d1923dc209181d6cf21759957 = L.heatLayer(\n",
       "                [[34.4113, -119.8538], [34.4113, -119.8538], [34.4098, -119.8587], [34.412, -119.8539], [34.4098, -119.8587], [34.4098, -119.8587], [34.4117, -119.8587], [34.4117, -119.8587], [34.4098, -119.8626], [34.4098, -119.8587], [34.4098, -119.8587], [34.4133, -119.861], [34.4173, -119.8554], [34.4144, -119.8607], [34.4141, -119.8587], [34.4106, -119.8541], [34.4116, -119.8482], [34.4148, -119.8625], [34.4098, -119.8587], [34.4098, -119.8587], [34.4098, -119.8587], [34.4098, -119.8626], [34.4174, -119.8606], [34.4098, -119.8626], [34.4173, -119.8625], [34.4119, -119.8569], [34.4092, -119.8532], [34.4177, -119.8549], [34.4144, -119.8607], [34.4104, -119.8562], [34.4095, -119.8461], [34.4402, -119.8121], [34.4142, -119.8626], [34.4098, -119.8587], [34.4093, -119.8538], [34.4177, -119.8672], [34.4093, -119.8538], [34.4098, -119.8626], [34.4142, -119.8626], [34.417, -119.8548], [34.4151, -119.8554], [34.4101, -119.8666], [34.4107, -119.8636], [34.4131, -119.8624], [34.4173, -119.8607], [34.4127, -119.8664], [34.4093, -119.8538], [34.4093, -119.8538], [34.4093, -119.8538], [34.4098, -119.8587], [34.4098, -119.8587], [34.4126, -119.8587], [34.4111, -119.8626], [34.4127, -119.8626], [34.4144, -119.8607], [34.4098, -119.8587], [34.4144, -119.8607], [34.4192, -119.8479], [34.4173, -119.8616], [34.4133, -119.861], [34.4164, -119.8563], [34.4189, -119.862], [34.4177, -119.8549], [34.4104, -119.8626], [34.4104, -119.8626], [34.411, -119.843], [34.4098, -119.8587], [34.4098, -119.8587], [34.4144, -119.8607], [34.4187, -119.8683], [34.4144, -119.8607], [34.4173, -119.8607], [34.4141, -119.8587], [34.4093, -119.8538], [34.4095, -119.8461], [34.4093, -119.8538], [34.4093, -119.8538], [34.4093, -119.8538], [34.4173, -119.8616], [34.4098, -119.8587], [34.4126, -119.8587], [34.4098, -119.8587], [34.4133, -119.861], [34.4173, -119.8625], [34.4124, -119.8554], [34.4133, -119.861], [34.4104, -119.8562], [34.4138, -119.8539], [34.4131, -119.8571], [34.4173, -119.8697], [34.4124, -119.868], [34.4152, -119.8587], [34.4098, -119.8587], [34.4098, -119.8587], [34.4094, -119.8563], [34.4098, -119.8587], [34.4094, -119.8563], [34.413, -119.8592], [34.4118, -119.8571], [34.4081, -119.878], [34.4113, -119.8538], [34.417, -119.8689], [34.4177, -119.8538], [34.4151, -119.8554], [34.4164, -119.8554], [34.4157, -119.857], [34.4164, -119.8554], [34.4098, -119.8587], [34.4218, -119.8716], [34.4098, -119.8587], [34.4173, -119.8607], [34.41, -119.86], [34.4141, -119.8587], [34.4133, -119.861], [34.4117, -119.8626], [34.4151, -119.8415], [34.4129, -119.8568], [34.41, -119.866], [34.4151, -119.857]],\n",
       "                {&quot;blur&quot;: 15, &quot;maxZoom&quot;: 18, &quot;minOpacity&quot;: 0.5, &quot;radius&quot;: 25}\n",
       "            );\n",
       "        \n",
       "    \n",
       "            heat_map_d13cc35d1923dc209181d6cf21759957.addTo(map_f7a9949bac7201b05a1b68227695f59f);\n",
       "        \n",
       "    \n",
       "            tile_layer_49f314be06ccb78781582a1f34b2e011.addTo(map_f7a9949bac7201b05a1b68227695f59f);\n",
       "        \n",
       "    \n",
       "            heat_map_d13cc35d1923dc209181d6cf21759957.addTo(map_f7a9949bac7201b05a1b68227695f59f);\n",
       "        \n",
       "&lt;/script&gt;\n",
       "&lt;/html&gt;\" style=\"position:absolute;width:100%;height:100%;left:0;top:0;border:none !important;\" allowfullscreen webkitallowfullscreen mozallowfullscreen></iframe></div></div>"
      ],
      "text/plain": [
       "<folium.folium.Map at 0x1301aaff0>"
      ]
     },
     "execution_count": 10,
     "metadata": {},
     "output_type": "execute_result"
    }
   ],
   "source": [
    "heat_map.save(\"generalHeatmapNoCount.html\")\n",
    "\n",
    "heat_map"
   ]
  },
  {
   "cell_type": "markdown",
   "id": "4e98c45d-ec08-4cfa-a567-3197e5568981",
   "metadata": {},
   "source": [
    "# Heatmap 2: Substance-related Arrests"
   ]
  },
  {
   "cell_type": "markdown",
   "id": "3b450540-970f-4d9c-8f26-67f8b74e1112",
   "metadata": {},
   "source": [
    "The same process is repeated for substance-related arrests as was for all arrests except the only difference is the SQL query used."
   ]
  },
  {
   "cell_type": "code",
   "execution_count": 11,
   "id": "6c3d8e51-9045-45e8-ad26-fd157fd968ca",
   "metadata": {},
   "outputs": [],
   "source": [
    "import sqlite3\n",
    "import pandas as pd\n",
    "from geopy.geocoders import GoogleV3\n",
    "from geopy.exc import GeocoderTimedOut\n",
    "import folium\n",
    "from folium.plugins import HeatMap\n",
    "import time\n",
    "\n",
    "conn = sqlite3.connect('arrestsData.db')\n",
    "df = pd.read_sql_query(\"SELECT Location || ', Isla Vista, CA' as address, Classification FROM UCSB_Crime_Fire_Log ucfl WHERE Disposition LIKE 'Arrest%' AND (upper(Classification) LIKE '%ALCOHOL%' OR upper(Classification) LIKE '%INTOXICATION%' OR upper(Classification) LIKE '%DRUG%' OR upper(Classification) LIKE '%OPEN CONTAINER%' OR upper(Classification) LIKE '%SUBSTANCE%' OR upper(Classification) LIKE '%INFLUENCE%'OR upper(Classification) LIKE '%POSSESS%' OR upper(Classification) LIKE '%NARCOTICS%')\", conn)"
   ]
  },
  {
   "cell_type": "markdown",
   "id": "c4479ddc-c7d6-4d93-9385-e3133da2972f",
   "metadata": {},
   "source": [
    "A SQL query is executed to retrieve arrest data for substance-related offenses from the `UCSB_Crime_Fire_Log` table. The query filters rows based on the `Disposition` field (to include only \"Arrest\" entries) and matches keywords related to substance use (e.g., \"ALCOHOL,\" \"DRUG,\" \"INTOXICATION\"). It also concatenates `\", Isla Vista, CA\"` to the `Location` field to form complete addresses."
   ]
  },
  {
   "cell_type": "code",
   "execution_count": 12,
   "id": "41d21522-ad75-41f0-a3f9-9e6f5720d2da",
   "metadata": {},
   "outputs": [
    {
     "data": {
      "text/html": [
       "<div style=\"width:100%;\"><div style=\"position:relative;width:100%;height:0;padding-bottom:60%;\"><span style=\"color:#565656\">Make this Notebook Trusted to load map: File -> Trust Notebook</span><iframe srcdoc=\"&lt;!DOCTYPE html&gt;\n",
       "&lt;html&gt;\n",
       "&lt;head&gt;\n",
       "    \n",
       "    &lt;meta http-equiv=&quot;content-type&quot; content=&quot;text/html; charset=UTF-8&quot; /&gt;\n",
       "    \n",
       "        &lt;script&gt;\n",
       "            L_NO_TOUCH = false;\n",
       "            L_DISABLE_3D = false;\n",
       "        &lt;/script&gt;\n",
       "    \n",
       "    &lt;style&gt;html, body {width: 100%;height: 100%;margin: 0;padding: 0;}&lt;/style&gt;\n",
       "    &lt;style&gt;#map {position:absolute;top:0;bottom:0;right:0;left:0;}&lt;/style&gt;\n",
       "    &lt;script src=&quot;https://cdn.jsdelivr.net/npm/leaflet@1.9.3/dist/leaflet.js&quot;&gt;&lt;/script&gt;\n",
       "    &lt;script src=&quot;https://code.jquery.com/jquery-3.7.1.min.js&quot;&gt;&lt;/script&gt;\n",
       "    &lt;script src=&quot;https://cdn.jsdelivr.net/npm/bootstrap@5.2.2/dist/js/bootstrap.bundle.min.js&quot;&gt;&lt;/script&gt;\n",
       "    &lt;script src=&quot;https://cdnjs.cloudflare.com/ajax/libs/Leaflet.awesome-markers/2.0.2/leaflet.awesome-markers.js&quot;&gt;&lt;/script&gt;\n",
       "    &lt;link rel=&quot;stylesheet&quot; href=&quot;https://cdn.jsdelivr.net/npm/leaflet@1.9.3/dist/leaflet.css&quot;/&gt;\n",
       "    &lt;link rel=&quot;stylesheet&quot; href=&quot;https://cdn.jsdelivr.net/npm/bootstrap@5.2.2/dist/css/bootstrap.min.css&quot;/&gt;\n",
       "    &lt;link rel=&quot;stylesheet&quot; href=&quot;https://netdna.bootstrapcdn.com/bootstrap/3.0.0/css/bootstrap-glyphicons.css&quot;/&gt;\n",
       "    &lt;link rel=&quot;stylesheet&quot; href=&quot;https://cdn.jsdelivr.net/npm/@fortawesome/fontawesome-free@6.2.0/css/all.min.css&quot;/&gt;\n",
       "    &lt;link rel=&quot;stylesheet&quot; href=&quot;https://cdnjs.cloudflare.com/ajax/libs/Leaflet.awesome-markers/2.0.2/leaflet.awesome-markers.css&quot;/&gt;\n",
       "    &lt;link rel=&quot;stylesheet&quot; href=&quot;https://cdn.jsdelivr.net/gh/python-visualization/folium/folium/templates/leaflet.awesome.rotate.min.css&quot;/&gt;\n",
       "    \n",
       "            &lt;meta name=&quot;viewport&quot; content=&quot;width=device-width,\n",
       "                initial-scale=1.0, maximum-scale=1.0, user-scalable=no&quot; /&gt;\n",
       "            &lt;style&gt;\n",
       "                #map_a6eefc1b9bb8ad48ee423762d098953c {\n",
       "                    position: relative;\n",
       "                    width: 100.0%;\n",
       "                    height: 100.0%;\n",
       "                    left: 0.0%;\n",
       "                    top: 0.0%;\n",
       "                }\n",
       "                .leaflet-container { font-size: 1rem; }\n",
       "            &lt;/style&gt;\n",
       "        \n",
       "    &lt;script src=&quot;https://cdn.jsdelivr.net/gh/python-visualization/folium@main/folium/templates/leaflet_heat.min.js&quot;&gt;&lt;/script&gt;\n",
       "&lt;/head&gt;\n",
       "&lt;body&gt;\n",
       "    \n",
       "    \n",
       "            &lt;div class=&quot;folium-map&quot; id=&quot;map_a6eefc1b9bb8ad48ee423762d098953c&quot; &gt;&lt;/div&gt;\n",
       "        \n",
       "&lt;/body&gt;\n",
       "&lt;script&gt;\n",
       "    \n",
       "    \n",
       "            var map_a6eefc1b9bb8ad48ee423762d098953c = L.map(\n",
       "                &quot;map_a6eefc1b9bb8ad48ee423762d098953c&quot;,\n",
       "                {\n",
       "                    center: [34.413120041278376, -119.86458253856023],\n",
       "                    crs: L.CRS.EPSG3857,\n",
       "                    zoom: 15,\n",
       "                    zoomControl: true,\n",
       "                    preferCanvas: false,\n",
       "                }\n",
       "            );\n",
       "\n",
       "            \n",
       "\n",
       "        \n",
       "    \n",
       "            var tile_layer_8bd0e6d352dee3b674ed2ff895027c17 = L.tileLayer(\n",
       "                &quot;https://tile.openstreetmap.org/{z}/{x}/{y}.png&quot;,\n",
       "                {&quot;attribution&quot;: &quot;\\u0026copy; \\u003ca href=\\&quot;https://www.openstreetmap.org/copyright\\&quot;\\u003eOpenStreetMap\\u003c/a\\u003e contributors&quot;, &quot;detectRetina&quot;: false, &quot;maxNativeZoom&quot;: 19, &quot;maxZoom&quot;: 19, &quot;minZoom&quot;: 0, &quot;noWrap&quot;: false, &quot;opacity&quot;: 1, &quot;subdomains&quot;: &quot;abc&quot;, &quot;tms&quot;: false}\n",
       "            );\n",
       "        \n",
       "    \n",
       "            tile_layer_8bd0e6d352dee3b674ed2ff895027c17.addTo(map_a6eefc1b9bb8ad48ee423762d098953c);\n",
       "        \n",
       "    \n",
       "            var heat_map_3777e7d3ba5a157246e4a30a02122db0 = L.heatLayer(\n",
       "                [[34.4113, -119.8538], [34.4113, -119.8538], [34.4098, -119.8587], [34.4117, -119.8587], [34.4117, -119.8587], [34.4098, -119.8626], [34.4098, -119.8587], [34.4133, -119.861], [34.4141, -119.8587], [34.4106, -119.8541], [34.4148, -119.8625], [34.4098, -119.8587], [34.4098, -119.8587], [34.4098, -119.8587], [34.4098, -119.8626], [34.4098, -119.8626], [34.4104, -119.8562], [34.4402, -119.8121], [34.4142, -119.8626], [34.4098, -119.8587], [34.4093, -119.8538], [34.4177, -119.8672], [34.4093, -119.8538], [34.4098, -119.8626], [34.4142, -119.8626], [34.417, -119.8548], [34.4101, -119.8666], [34.4107, -119.8636], [34.4131, -119.8624], [34.4173, -119.8607], [34.4127, -119.8664], [34.4093, -119.8538], [34.4093, -119.8538], [34.4093, -119.8538], [34.4098, -119.8587], [34.4098, -119.8587], [34.4126, -119.8587], [34.4111, -119.8626], [34.4127, -119.8626], [34.4098, -119.8587], [34.4192, -119.8479], [34.4173, -119.8616], [34.4133, -119.861], [34.4164, -119.8563], [34.4177, -119.8549], [34.4104, -119.8626], [34.4104, -119.8626], [34.411, -119.843], [34.4098, -119.8587], [34.4098, -119.8587], [34.4187, -119.8683], [34.4173, -119.8607], [34.4141, -119.8587], [34.4093, -119.8538], [34.4093, -119.8538], [34.4093, -119.8538], [34.4093, -119.8538], [34.4173, -119.8616], [34.4098, -119.8587], [34.4126, -119.8587], [34.4098, -119.8587], [34.4133, -119.861], [34.4173, -119.8625], [34.4124, -119.8554], [34.4133, -119.861], [34.4104, -119.8562], [34.4138, -119.8539], [34.4131, -119.8571], [34.4173, -119.8697], [34.4124, -119.868], [34.4152, -119.8587], [34.4098, -119.8587], [34.4094, -119.8563], [34.4098, -119.8587], [34.4094, -119.8563], [34.417, -119.8689], [34.4157, -119.857], [34.4164, -119.8554], [34.4218, -119.8716], [34.4098, -119.8587], [34.4173, -119.8607], [34.4133, -119.861], [34.4117, -119.8626], [34.4129, -119.8568]],\n",
       "                {&quot;blur&quot;: 15, &quot;maxZoom&quot;: 18, &quot;minOpacity&quot;: 0.5, &quot;radius&quot;: 25}\n",
       "            );\n",
       "        \n",
       "    \n",
       "            heat_map_3777e7d3ba5a157246e4a30a02122db0.addTo(map_a6eefc1b9bb8ad48ee423762d098953c);\n",
       "        \n",
       "    \n",
       "            tile_layer_8bd0e6d352dee3b674ed2ff895027c17.addTo(map_a6eefc1b9bb8ad48ee423762d098953c);\n",
       "        \n",
       "    \n",
       "            heat_map_3777e7d3ba5a157246e4a30a02122db0.addTo(map_a6eefc1b9bb8ad48ee423762d098953c);\n",
       "        \n",
       "&lt;/script&gt;\n",
       "&lt;/html&gt;\" style=\"position:absolute;width:100%;height:100%;left:0;top:0;border:none !important;\" allowfullscreen webkitallowfullscreen mozallowfullscreen></iframe></div></div>"
      ],
      "text/plain": [
       "<folium.folium.Map at 0x1279f6570>"
      ]
     },
     "execution_count": 12,
     "metadata": {},
     "output_type": "execute_result"
    }
   ],
   "source": [
    "addresses = df['address'].tolist()\n",
    "conn.close()\n",
    "\n",
    "coordinates = []\n",
    "for address in addresses:\n",
    "    coord = geocode_address(address)\n",
    "    if coord:\n",
    "        coordinates.append(coord)\n",
    "\n",
    "map_center = [34.413120041278376, -119.86458253856023]\n",
    "s_heat_map = folium.Map(location=map_center, zoom_start=15)\n",
    "HeatMap(coordinates).add_to(s_heat_map)\n",
    "\n",
    "\n",
    "s_heat_map.save(\"substanceHeatmapNoCount.html\")\n",
    "s_heat_map"
   ]
  },
  {
   "cell_type": "markdown",
   "id": "2be296a8-9a4a-4b30-9775-4ff4d2463045",
   "metadata": {},
   "source": [
    "# Heatmap 3: Theft and property-related Arrests"
   ]
  },
  {
   "cell_type": "markdown",
   "id": "58eb474c-e30f-4f0b-9c1f-8f066d46b9c5",
   "metadata": {},
   "source": [
    "The same process is repeated for theft and property-related arrests as was for all arrests except the only difference is the SQL query used."
   ]
  },
  {
   "cell_type": "code",
   "execution_count": 13,
   "id": "d3ef06b5-82c2-4202-a7aa-1d68e8931e78",
   "metadata": {},
   "outputs": [],
   "source": [
    "import sqlite3\n",
    "import pandas as pd\n",
    "from geopy.geocoders import GoogleV3\n",
    "from geopy.exc import GeocoderTimedOut\n",
    "import folium\n",
    "from folium.plugins import HeatMap\n",
    "import time\n",
    "\n",
    "conn = sqlite3.connect('arrestsData.db')\n",
    "df = pd.read_sql_query(\"SELECT Location || ', Isla Vista, CA' as address, Classification FROM UCSB_Crime_Fire_Log ucfl WHERE Disposition LIKE 'Arrest%' AND (upper(Classification) LIKE '%THEFT%' OR upper(Classification) LIKE '%LARCENY%' OR upper(Classification) LIKE '%SHOPLIFTING%' OR upper(Classification) LIKE '%VANDALISM%' OR upper(Classification) LIKE '%TRESPASS%' OR upper(Classification) LIKE '%PROPERTY%'OR upper(Classification) LIKE '%BURGLARY%')\", conn)\n"
   ]
  },
  {
   "cell_type": "markdown",
   "id": "db6fcfe6-4fe4-43aa-9315-e48993621ac9",
   "metadata": {},
   "source": [
    "A SQL query is executed to retrieve arrest data for substance-related offenses from the UCSB_Crime_Fire_Log table. The query filters rows based on the Disposition field (to include only \"Arrest\" entries) and matches keywords related to theft and property crimes (e.g., \"THEFT,\" \"SHOPLIFTING,\" \"BURGLARY\"). It also concatenates \", Isla Vista, CA\" to the Location field to form complete addresses."
   ]
  },
  {
   "cell_type": "code",
   "execution_count": 14,
   "id": "d9f79ec8-9b8b-46c7-a597-9b1bc5603626",
   "metadata": {},
   "outputs": [
    {
     "data": {
      "text/html": [
       "<div style=\"width:100%;\"><div style=\"position:relative;width:100%;height:0;padding-bottom:60%;\"><span style=\"color:#565656\">Make this Notebook Trusted to load map: File -> Trust Notebook</span><iframe srcdoc=\"&lt;!DOCTYPE html&gt;\n",
       "&lt;html&gt;\n",
       "&lt;head&gt;\n",
       "    \n",
       "    &lt;meta http-equiv=&quot;content-type&quot; content=&quot;text/html; charset=UTF-8&quot; /&gt;\n",
       "    \n",
       "        &lt;script&gt;\n",
       "            L_NO_TOUCH = false;\n",
       "            L_DISABLE_3D = false;\n",
       "        &lt;/script&gt;\n",
       "    \n",
       "    &lt;style&gt;html, body {width: 100%;height: 100%;margin: 0;padding: 0;}&lt;/style&gt;\n",
       "    &lt;style&gt;#map {position:absolute;top:0;bottom:0;right:0;left:0;}&lt;/style&gt;\n",
       "    &lt;script src=&quot;https://cdn.jsdelivr.net/npm/leaflet@1.9.3/dist/leaflet.js&quot;&gt;&lt;/script&gt;\n",
       "    &lt;script src=&quot;https://code.jquery.com/jquery-3.7.1.min.js&quot;&gt;&lt;/script&gt;\n",
       "    &lt;script src=&quot;https://cdn.jsdelivr.net/npm/bootstrap@5.2.2/dist/js/bootstrap.bundle.min.js&quot;&gt;&lt;/script&gt;\n",
       "    &lt;script src=&quot;https://cdnjs.cloudflare.com/ajax/libs/Leaflet.awesome-markers/2.0.2/leaflet.awesome-markers.js&quot;&gt;&lt;/script&gt;\n",
       "    &lt;link rel=&quot;stylesheet&quot; href=&quot;https://cdn.jsdelivr.net/npm/leaflet@1.9.3/dist/leaflet.css&quot;/&gt;\n",
       "    &lt;link rel=&quot;stylesheet&quot; href=&quot;https://cdn.jsdelivr.net/npm/bootstrap@5.2.2/dist/css/bootstrap.min.css&quot;/&gt;\n",
       "    &lt;link rel=&quot;stylesheet&quot; href=&quot;https://netdna.bootstrapcdn.com/bootstrap/3.0.0/css/bootstrap-glyphicons.css&quot;/&gt;\n",
       "    &lt;link rel=&quot;stylesheet&quot; href=&quot;https://cdn.jsdelivr.net/npm/@fortawesome/fontawesome-free@6.2.0/css/all.min.css&quot;/&gt;\n",
       "    &lt;link rel=&quot;stylesheet&quot; href=&quot;https://cdnjs.cloudflare.com/ajax/libs/Leaflet.awesome-markers/2.0.2/leaflet.awesome-markers.css&quot;/&gt;\n",
       "    &lt;link rel=&quot;stylesheet&quot; href=&quot;https://cdn.jsdelivr.net/gh/python-visualization/folium/folium/templates/leaflet.awesome.rotate.min.css&quot;/&gt;\n",
       "    \n",
       "            &lt;meta name=&quot;viewport&quot; content=&quot;width=device-width,\n",
       "                initial-scale=1.0, maximum-scale=1.0, user-scalable=no&quot; /&gt;\n",
       "            &lt;style&gt;\n",
       "                #map_154e1ff50ddc84c5420d41cf92fe2839 {\n",
       "                    position: relative;\n",
       "                    width: 100.0%;\n",
       "                    height: 100.0%;\n",
       "                    left: 0.0%;\n",
       "                    top: 0.0%;\n",
       "                }\n",
       "                .leaflet-container { font-size: 1rem; }\n",
       "            &lt;/style&gt;\n",
       "        \n",
       "    &lt;script src=&quot;https://cdn.jsdelivr.net/gh/python-visualization/folium@main/folium/templates/leaflet_heat.min.js&quot;&gt;&lt;/script&gt;\n",
       "&lt;/head&gt;\n",
       "&lt;body&gt;\n",
       "    \n",
       "    \n",
       "            &lt;div class=&quot;folium-map&quot; id=&quot;map_154e1ff50ddc84c5420d41cf92fe2839&quot; &gt;&lt;/div&gt;\n",
       "        \n",
       "&lt;/body&gt;\n",
       "&lt;script&gt;\n",
       "    \n",
       "    \n",
       "            var map_154e1ff50ddc84c5420d41cf92fe2839 = L.map(\n",
       "                &quot;map_154e1ff50ddc84c5420d41cf92fe2839&quot;,\n",
       "                {\n",
       "                    center: [34.413120041278376, -119.86458253856023],\n",
       "                    crs: L.CRS.EPSG3857,\n",
       "                    zoom: 15,\n",
       "                    zoomControl: true,\n",
       "                    preferCanvas: false,\n",
       "                }\n",
       "            );\n",
       "\n",
       "            \n",
       "\n",
       "        \n",
       "    \n",
       "            var tile_layer_014b7f901132d30cc8841c883d31c93d = L.tileLayer(\n",
       "                &quot;https://tile.openstreetmap.org/{z}/{x}/{y}.png&quot;,\n",
       "                {&quot;attribution&quot;: &quot;\\u0026copy; \\u003ca href=\\&quot;https://www.openstreetmap.org/copyright\\&quot;\\u003eOpenStreetMap\\u003c/a\\u003e contributors&quot;, &quot;detectRetina&quot;: false, &quot;maxNativeZoom&quot;: 19, &quot;maxZoom&quot;: 19, &quot;minZoom&quot;: 0, &quot;noWrap&quot;: false, &quot;opacity&quot;: 1, &quot;subdomains&quot;: &quot;abc&quot;, &quot;tms&quot;: false}\n",
       "            );\n",
       "        \n",
       "    \n",
       "            tile_layer_014b7f901132d30cc8841c883d31c93d.addTo(map_154e1ff50ddc84c5420d41cf92fe2839);\n",
       "        \n",
       "    \n",
       "            var heat_map_bd69b8dc94960d3289161dda4fe13947 = L.heatLayer(\n",
       "                [[34.4098, -119.8587], [34.4116, -119.8482], [34.4174, -119.8606], [34.4119, -119.8569], [34.4095, -119.8461], [34.417, -119.8548], [34.4151, -119.8554], [34.4189, -119.862], [34.411, -119.843], [34.4187, -119.8683], [34.4133, -119.861], [34.4118, -119.8571], [34.4177, -119.8538], [34.4218, -119.8716], [34.41, -119.86], [34.4141, -119.8587], [34.41, -119.866], [34.4151, -119.857]],\n",
       "                {&quot;blur&quot;: 15, &quot;maxZoom&quot;: 18, &quot;minOpacity&quot;: 0.5, &quot;radius&quot;: 25}\n",
       "            );\n",
       "        \n",
       "    \n",
       "            heat_map_bd69b8dc94960d3289161dda4fe13947.addTo(map_154e1ff50ddc84c5420d41cf92fe2839);\n",
       "        \n",
       "    \n",
       "            tile_layer_014b7f901132d30cc8841c883d31c93d.addTo(map_154e1ff50ddc84c5420d41cf92fe2839);\n",
       "        \n",
       "    \n",
       "            heat_map_bd69b8dc94960d3289161dda4fe13947.addTo(map_154e1ff50ddc84c5420d41cf92fe2839);\n",
       "        \n",
       "&lt;/script&gt;\n",
       "&lt;/html&gt;\" style=\"position:absolute;width:100%;height:100%;left:0;top:0;border:none !important;\" allowfullscreen webkitallowfullscreen mozallowfullscreen></iframe></div></div>"
      ],
      "text/plain": [
       "<folium.folium.Map at 0x127e3ee70>"
      ]
     },
     "execution_count": 14,
     "metadata": {},
     "output_type": "execute_result"
    }
   ],
   "source": [
    "addresses = df['address'].tolist()\n",
    "conn.close()\n",
    "\n",
    "coordinates = []\n",
    "for address in addresses:\n",
    "    coord = geocode_address(address)\n",
    "    if coord:\n",
    "        coordinates.append(coord)\n",
    "\n",
    "map_center = [34.413120041278376, -119.86458253856023]\n",
    "t_heat_map = folium.Map(location=map_center, zoom_start=15)\n",
    "HeatMap(coordinates).add_to(t_heat_map)\n",
    "\n",
    "\n",
    "t_heat_map.save(\"substanceHeatmapNoCount.html\")\n",
    "t_heat_map"
   ]
  },
  {
   "cell_type": "markdown",
   "id": "dcfdebe5-0fad-432a-a15b-b705094d2ba9",
   "metadata": {},
   "source": [
    "## Trial 1 Conclusion"
   ]
  },
  {
   "cell_type": "markdown",
   "id": "4f489bbf-c331-4ed2-9fbc-90223e350b3e",
   "metadata": {},
   "source": [
    "The heatmaps display effectively, but to enhance the article's purpose and improve the reader's experience, I decided I should include counts for each location. This addition will provide a clearer understanding of how many crimes occured at each spot, giving readers more detailed information. Therefore, I will conduct another trial."
   ]
  }
 ],
 "metadata": {
  "kernelspec": {
   "display_name": "Python 3 (ipykernel)",
   "language": "python",
   "name": "python3"
  },
  "language_info": {
   "codemirror_mode": {
    "name": "ipython",
    "version": 3
   },
   "file_extension": ".py",
   "mimetype": "text/x-python",
   "name": "python",
   "nbconvert_exporter": "python",
   "pygments_lexer": "ipython3",
   "version": "3.12.4"
  }
 },
 "nbformat": 4,
 "nbformat_minor": 5
}
